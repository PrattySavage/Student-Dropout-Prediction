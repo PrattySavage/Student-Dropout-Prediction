{
 "cells": [
  {
   "cell_type": "code",
   "execution_count": 85,
   "id": "2ba2d485",
   "metadata": {},
   "outputs": [],
   "source": [
    "import pandas as pd\n",
    "import numpy as np\n",
    "import matplotlib.pyplot as plt\n",
    "import seaborn as sns"
   ]
  },
  {
   "cell_type": "code",
   "execution_count": 86,
   "id": "01abfffd",
   "metadata": {},
   "outputs": [],
   "source": [
    "student_info = pd.read_csv(\"../data/studentInfo.csv\")"
   ]
  },
  {
   "cell_type": "code",
   "execution_count": 87,
   "id": "28805d2c",
   "metadata": {},
   "outputs": [
    {
     "name": "stdout",
     "output_type": "stream",
     "text": [
      "Shape of studentInfo dataset (32593, 12)\n"
     ]
    },
    {
     "data": {
      "application/vnd.microsoft.datawrangler.viewer.v0+json": {
       "columns": [
        {
         "name": "index",
         "rawType": "int64",
         "type": "integer"
        },
        {
         "name": "code_module",
         "rawType": "object",
         "type": "string"
        },
        {
         "name": "code_presentation",
         "rawType": "object",
         "type": "string"
        },
        {
         "name": "id_student",
         "rawType": "int64",
         "type": "integer"
        },
        {
         "name": "gender",
         "rawType": "object",
         "type": "string"
        },
        {
         "name": "region",
         "rawType": "object",
         "type": "string"
        },
        {
         "name": "highest_education",
         "rawType": "object",
         "type": "string"
        },
        {
         "name": "imd_band",
         "rawType": "object",
         "type": "string"
        },
        {
         "name": "age_band",
         "rawType": "object",
         "type": "string"
        },
        {
         "name": "num_of_prev_attempts",
         "rawType": "int64",
         "type": "integer"
        },
        {
         "name": "studied_credits",
         "rawType": "int64",
         "type": "integer"
        },
        {
         "name": "disability",
         "rawType": "object",
         "type": "string"
        },
        {
         "name": "final_result",
         "rawType": "object",
         "type": "string"
        }
       ],
       "conversionMethod": "pd.DataFrame",
       "ref": "96c7edbf-dfdc-403d-af1b-f26c250ccc0c",
       "rows": [
        [
         "0",
         "AAA",
         "2013J",
         "11391",
         "M",
         "East Anglian Region",
         "HE Qualification",
         "90-100%",
         "55<=",
         "0",
         "240",
         "N",
         "Pass"
        ],
        [
         "1",
         "AAA",
         "2013J",
         "28400",
         "F",
         "Scotland",
         "HE Qualification",
         "20-30%",
         "35-55",
         "0",
         "60",
         "N",
         "Pass"
        ],
        [
         "2",
         "AAA",
         "2013J",
         "30268",
         "F",
         "North Western Region",
         "A Level or Equivalent",
         "30-40%",
         "35-55",
         "0",
         "60",
         "Y",
         "Withdrawn"
        ],
        [
         "3",
         "AAA",
         "2013J",
         "31604",
         "F",
         "South East Region",
         "A Level or Equivalent",
         "50-60%",
         "35-55",
         "0",
         "60",
         "N",
         "Pass"
        ],
        [
         "4",
         "AAA",
         "2013J",
         "32885",
         "F",
         "West Midlands Region",
         "Lower Than A Level",
         "50-60%",
         "0-35",
         "0",
         "60",
         "N",
         "Pass"
        ]
       ],
       "shape": {
        "columns": 12,
        "rows": 5
       }
      },
      "text/html": [
       "<div>\n",
       "<style scoped>\n",
       "    .dataframe tbody tr th:only-of-type {\n",
       "        vertical-align: middle;\n",
       "    }\n",
       "\n",
       "    .dataframe tbody tr th {\n",
       "        vertical-align: top;\n",
       "    }\n",
       "\n",
       "    .dataframe thead th {\n",
       "        text-align: right;\n",
       "    }\n",
       "</style>\n",
       "<table border=\"1\" class=\"dataframe\">\n",
       "  <thead>\n",
       "    <tr style=\"text-align: right;\">\n",
       "      <th></th>\n",
       "      <th>code_module</th>\n",
       "      <th>code_presentation</th>\n",
       "      <th>id_student</th>\n",
       "      <th>gender</th>\n",
       "      <th>region</th>\n",
       "      <th>highest_education</th>\n",
       "      <th>imd_band</th>\n",
       "      <th>age_band</th>\n",
       "      <th>num_of_prev_attempts</th>\n",
       "      <th>studied_credits</th>\n",
       "      <th>disability</th>\n",
       "      <th>final_result</th>\n",
       "    </tr>\n",
       "  </thead>\n",
       "  <tbody>\n",
       "    <tr>\n",
       "      <th>0</th>\n",
       "      <td>AAA</td>\n",
       "      <td>2013J</td>\n",
       "      <td>11391</td>\n",
       "      <td>M</td>\n",
       "      <td>East Anglian Region</td>\n",
       "      <td>HE Qualification</td>\n",
       "      <td>90-100%</td>\n",
       "      <td>55&lt;=</td>\n",
       "      <td>0</td>\n",
       "      <td>240</td>\n",
       "      <td>N</td>\n",
       "      <td>Pass</td>\n",
       "    </tr>\n",
       "    <tr>\n",
       "      <th>1</th>\n",
       "      <td>AAA</td>\n",
       "      <td>2013J</td>\n",
       "      <td>28400</td>\n",
       "      <td>F</td>\n",
       "      <td>Scotland</td>\n",
       "      <td>HE Qualification</td>\n",
       "      <td>20-30%</td>\n",
       "      <td>35-55</td>\n",
       "      <td>0</td>\n",
       "      <td>60</td>\n",
       "      <td>N</td>\n",
       "      <td>Pass</td>\n",
       "    </tr>\n",
       "    <tr>\n",
       "      <th>2</th>\n",
       "      <td>AAA</td>\n",
       "      <td>2013J</td>\n",
       "      <td>30268</td>\n",
       "      <td>F</td>\n",
       "      <td>North Western Region</td>\n",
       "      <td>A Level or Equivalent</td>\n",
       "      <td>30-40%</td>\n",
       "      <td>35-55</td>\n",
       "      <td>0</td>\n",
       "      <td>60</td>\n",
       "      <td>Y</td>\n",
       "      <td>Withdrawn</td>\n",
       "    </tr>\n",
       "    <tr>\n",
       "      <th>3</th>\n",
       "      <td>AAA</td>\n",
       "      <td>2013J</td>\n",
       "      <td>31604</td>\n",
       "      <td>F</td>\n",
       "      <td>South East Region</td>\n",
       "      <td>A Level or Equivalent</td>\n",
       "      <td>50-60%</td>\n",
       "      <td>35-55</td>\n",
       "      <td>0</td>\n",
       "      <td>60</td>\n",
       "      <td>N</td>\n",
       "      <td>Pass</td>\n",
       "    </tr>\n",
       "    <tr>\n",
       "      <th>4</th>\n",
       "      <td>AAA</td>\n",
       "      <td>2013J</td>\n",
       "      <td>32885</td>\n",
       "      <td>F</td>\n",
       "      <td>West Midlands Region</td>\n",
       "      <td>Lower Than A Level</td>\n",
       "      <td>50-60%</td>\n",
       "      <td>0-35</td>\n",
       "      <td>0</td>\n",
       "      <td>60</td>\n",
       "      <td>N</td>\n",
       "      <td>Pass</td>\n",
       "    </tr>\n",
       "  </tbody>\n",
       "</table>\n",
       "</div>"
      ],
      "text/plain": [
       "  code_module code_presentation  id_student gender                region  \\\n",
       "0         AAA             2013J       11391      M   East Anglian Region   \n",
       "1         AAA             2013J       28400      F              Scotland   \n",
       "2         AAA             2013J       30268      F  North Western Region   \n",
       "3         AAA             2013J       31604      F     South East Region   \n",
       "4         AAA             2013J       32885      F  West Midlands Region   \n",
       "\n",
       "       highest_education imd_band age_band  num_of_prev_attempts  \\\n",
       "0       HE Qualification  90-100%     55<=                     0   \n",
       "1       HE Qualification   20-30%    35-55                     0   \n",
       "2  A Level or Equivalent   30-40%    35-55                     0   \n",
       "3  A Level or Equivalent   50-60%    35-55                     0   \n",
       "4     Lower Than A Level   50-60%     0-35                     0   \n",
       "\n",
       "   studied_credits disability final_result  \n",
       "0              240          N         Pass  \n",
       "1               60          N         Pass  \n",
       "2               60          Y    Withdrawn  \n",
       "3               60          N         Pass  \n",
       "4               60          N         Pass  "
      ]
     },
     "execution_count": 87,
     "metadata": {},
     "output_type": "execute_result"
    }
   ],
   "source": [
    "print (\"Shape of studentInfo dataset\", student_info.shape)\n",
    "student_info.head()"
   ]
  },
  {
   "cell_type": "code",
   "execution_count": 88,
   "id": "63a9319c",
   "metadata": {},
   "outputs": [
    {
     "name": "stdout",
     "output_type": "stream",
     "text": [
      "Columns in dataset:\n",
      "['code_module', 'code_presentation', 'id_student', 'gender', 'region', 'highest_education', 'imd_band', 'age_band', 'num_of_prev_attempts', 'studied_credits', 'disability', 'final_result']\n"
     ]
    }
   ],
   "source": [
    "print(\"Columns in dataset:\")\n",
    "print(student_info.columns.tolist())"
   ]
  },
  {
   "cell_type": "code",
   "execution_count": 89,
   "id": "ffaa1192",
   "metadata": {},
   "outputs": [
    {
     "name": "stdout",
     "output_type": "stream",
     "text": [
      "\n",
      "Missing values in each column:\n",
      "code_module                0\n",
      "code_presentation          0\n",
      "id_student                 0\n",
      "gender                     0\n",
      "region                     0\n",
      "highest_education          0\n",
      "imd_band                1111\n",
      "age_band                   0\n",
      "num_of_prev_attempts       0\n",
      "studied_credits            0\n",
      "disability                 0\n",
      "final_result               0\n",
      "dtype: int64\n"
     ]
    }
   ],
   "source": [
    "print(\"\\nMissing values in each column:\")\n",
    "print(student_info.isnull().sum())"
   ]
  },
  {
   "cell_type": "markdown",
   "id": "17c91505",
   "metadata": {},
   "source": [
    "Looks like only column imd_band has around 1111 missing values"
   ]
  },
  {
   "cell_type": "code",
   "execution_count": 90,
   "id": "a50d41ec",
   "metadata": {},
   "outputs": [
    {
     "name": "stdout",
     "output_type": "stream",
     "text": [
      "\n",
      "Distribution of final_result (target):\n",
      "final_result\n",
      "Pass           12361\n",
      "Withdrawn      10156\n",
      "Fail            7052\n",
      "Distinction     3024\n",
      "Name: count, dtype: int64\n"
     ]
    }
   ],
   "source": [
    "print(\"\\nDistribution of final_result (target):\")\n",
    "print(student_info['final_result'].value_counts())"
   ]
  },
  {
   "cell_type": "code",
   "execution_count": 91,
   "id": "19a5af4d",
   "metadata": {},
   "outputs": [
    {
     "name": "stderr",
     "output_type": "stream",
     "text": [
      "/tmp/ipykernel_1361/2618709709.py:1: FutureWarning: \n",
      "\n",
      "Passing `palette` without assigning `hue` is deprecated and will be removed in v0.14.0. Assign the `x` variable to `hue` and set `legend=False` for the same effect.\n",
      "\n",
      "  sns.countplot(data=student_info, x='final_result', palette = 'Set2')\n"
     ]
    },
    {
     "data": {
      "image/png": "[encoded data removed]",
      "text/plain": [
       "<Figure size 640x480 with 1 Axes>"
      ]
     },
     "metadata": {},
     "output_type": "display_data"
    }
   ],
   "source": [
    "sns.countplot(data=student_info, x='final_result', palette = 'Set2')\n",
    "plt.title(\"Final Result Distribution\")\n",
    "plt.show()"
   ]
  },
  {
   "cell_type": "code",
   "execution_count": 92,
   "id": "80e9f0a6",
   "metadata": {},
   "outputs": [
    {
     "data": {
      "image/png": "[encoded data removed]",
      "text/plain": [
       "<Figure size 640x480 with 1 Axes>"
      ]
     },
     "metadata": {},
     "output_type": "display_data"
    }
   ],
   "source": [
    "sns.countplot(data=student_info, x=\"age_band\", hue=\"final_result\", palette = 'Set1')\n",
    "plt.title(\"Dropout by Age Band\")\n",
    "plt.show()"
   ]
  },
  {
   "cell_type": "markdown",
   "id": "c8093884",
   "metadata": {},
   "source": [
    "Younger students are dropping out more compared to older ones"
   ]
  },
  {
   "cell_type": "code",
   "execution_count": 93,
   "id": "19f3de6d",
   "metadata": {},
   "outputs": [
    {
     "data": {
      "image/png": "[encoded data removed]",
      "text/plain": [
       "<Figure size 640x480 with 1 Axes>"
      ]
     },
     "metadata": {},
     "output_type": "display_data"
    }
   ],
   "source": [
    "sns.countplot(data=student_info, x=\"gender\", hue='final_result', palette = 'Set1')\n",
    "plt.title(\"Dropout by gender\")\n",
    "plt.show()"
   ]
  },
  {
   "cell_type": "markdown",
   "id": "ff31fc8d",
   "metadata": {},
   "source": [
    "Compared to female students males students withdrew more. Same can be said for other final results"
   ]
  },
  {
   "cell_type": "code",
   "execution_count": 94,
   "id": "9b875415",
   "metadata": {},
   "outputs": [
    {
     "data": {
      "image/png": "[encoded data removed]",
      "text/plain": [
       "<Figure size 640x480 with 1 Axes>"
      ]
     },
     "metadata": {},
     "output_type": "display_data"
    }
   ],
   "source": [
    "sns.countplot(data=student_info, x=\"highest_education\", hue='final_result', palette = 'Set2')\n",
    "plt.title(\"Dropout by education level\")\n",
    "plt.xticks(rotation=45)\n",
    "plt.show()  "
   ]
  },
  {
   "cell_type": "markdown",
   "id": "ce896875",
   "metadata": {},
   "source": [
    "People with A Level or Equivalent education and lower have higher withdrawal rates"
   ]
  },
  {
   "cell_type": "code",
   "execution_count": 95,
   "id": "3a26b384",
   "metadata": {},
   "outputs": [
    {
     "data": {
      "image/png": "[encoded data removed]",
      "text/plain": [
       "<Figure size 1200x600 with 1 Axes>"
      ]
     },
     "metadata": {},
     "output_type": "display_data"
    }
   ],
   "source": [
    "plt.figure(figsize=(12, 6))\n",
    "sns.countplot(data=student_info, x=\"region\", hue=\"final_result\", palette= 'Set3')\n",
    "plt.title(\"Dropout by region\")\n",
    "plt.xticks(rotation=45)\n",
    "plt.show()"
   ]
  },
  {
   "cell_type": "code",
   "execution_count": 96,
   "id": "f78c9de0",
   "metadata": {},
   "outputs": [],
   "source": [
    "df = student_info[[\"id_student\", \"gender\", \"age_band\", \"highest_education\", \"region\", \"disability\", \"studied_credits\", \"num_of_prev_attempts\", \"final_result\"]].copy()"
   ]
  },
  {
   "cell_type": "code",
   "execution_count": 97,
   "id": "67068fa4",
   "metadata": {},
   "outputs": [],
   "source": [
    "df = student_info[student_info['final_result'].isin(['Pass', 'Fail', 'Withdrawn', \"Distinction\"])].copy()\n"
   ]
  },
  {
   "cell_type": "code",
   "execution_count": 98,
   "id": "769226b4",
   "metadata": {},
   "outputs": [],
   "source": [
    "df['label'] = df['final_result'].apply(lambda x: 1 if x == 'Withdrawn' else 0)\n",
    "df.drop(columns=[\"final_result\"], inplace=True)"
   ]
  },
  {
   "cell_type": "code",
   "execution_count": 99,
   "id": "9a7efe60",
   "metadata": {},
   "outputs": [],
   "source": [
    "df_encoded = pd.get_dummies(df, drop_first=True).astype(int)"
   ]
  },
  {
   "cell_type": "code",
   "execution_count": 100,
   "id": "57e267b5",
   "metadata": {},
   "outputs": [
    {
     "name": "stdout",
     "output_type": "stream",
     "text": [
      "Processed dataset shape: (32593, 42)\n"
     ]
    },
    {
     "data": {
      "application/vnd.microsoft.datawrangler.viewer.v0+json": {
       "columns": [
        {
         "name": "index",
         "rawType": "int64",
         "type": "integer"
        },
        {
         "name": "id_student",
         "rawType": "int64",
         "type": "integer"
        },
        {
         "name": "num_of_prev_attempts",
         "rawType": "int64",
         "type": "integer"
        },
        {
         "name": "studied_credits",
         "rawType": "int64",
         "type": "integer"
        },
        {
         "name": "label",
         "rawType": "int64",
         "type": "integer"
        },
        {
         "name": "code_module_BBB",
         "rawType": "int64",
         "type": "integer"
        },
        {
         "name": "code_module_CCC",
         "rawType": "int64",
         "type": "integer"
        },
        {
         "name": "code_module_DDD",
         "rawType": "int64",
         "type": "integer"
        },
        {
         "name": "code_module_EEE",
         "rawType": "int64",
         "type": "integer"
        },
        {
         "name": "code_module_FFF",
         "rawType": "int64",
         "type": "integer"
        },
        {
         "name": "code_module_GGG",
         "rawType": "int64",
         "type": "integer"
        },
        {
         "name": "code_presentation_2013J",
         "rawType": "int64",
         "type": "integer"
        },
        {
         "name": "code_presentation_2014B",
         "rawType": "int64",
         "type": "integer"
        },
        {
         "name": "code_presentation_2014J",
         "rawType": "int64",
         "type": "integer"
        },
        {
         "name": "gender_M",
         "rawType": "int64",
         "type": "integer"
        },
        {
         "name": "region_East Midlands Region",
         "rawType": "int64",
         "type": "integer"
        },
        {
         "name": "region_Ireland",
         "rawType": "int64",
         "type": "integer"
        },
        {
         "name": "region_London Region",
         "rawType": "int64",
         "type": "integer"
        },
        {
         "name": "region_North Region",
         "rawType": "int64",
         "type": "integer"
        },
        {
         "name": "region_North Western Region",
         "rawType": "int64",
         "type": "integer"
        },
        {
         "name": "region_Scotland",
         "rawType": "int64",
         "type": "integer"
        },
        {
         "name": "region_South East Region",
         "rawType": "int64",
         "type": "integer"
        },
        {
         "name": "region_South Region",
         "rawType": "int64",
         "type": "integer"
        },
        {
         "name": "region_South West Region",
         "rawType": "int64",
         "type": "integer"
        },
        {
         "name": "region_Wales",
         "rawType": "int64",
         "type": "integer"
        },
        {
         "name": "region_West Midlands Region",
         "rawType": "int64",
         "type": "integer"
        },
        {
         "name": "region_Yorkshire Region",
         "rawType": "int64",
         "type": "integer"
        },
        {
         "name": "highest_education_HE Qualification",
         "rawType": "int64",
         "type": "integer"
        },
        {
         "name": "highest_education_Lower Than A Level",
         "rawType": "int64",
         "type": "integer"
        },
        {
         "name": "highest_education_No Formal quals",
         "rawType": "int64",
         "type": "integer"
        },
        {
         "name": "highest_education_Post Graduate Qualification",
         "rawType": "int64",
         "type": "integer"
        },
        {
         "name": "imd_band_10-20",
         "rawType": "int64",
         "type": "integer"
        },
        {
         "name": "imd_band_20-30%",
         "rawType": "int64",
         "type": "integer"
        },
        {
         "name": "imd_band_30-40%",
         "rawType": "int64",
         "type": "integer"
        },
        {
         "name": "imd_band_40-50%",
         "rawType": "int64",
         "type": "integer"
        },
        {
         "name": "imd_band_50-60%",
         "rawType": "int64",
         "type": "integer"
        },
        {
         "name": "imd_band_60-70%",
         "rawType": "int64",
         "type": "integer"
        },
        {
         "name": "imd_band_70-80%",
         "rawType": "int64",
         "type": "integer"
        },
        {
         "name": "imd_band_80-90%",
         "rawType": "int64",
         "type": "integer"
        },
        {
         "name": "imd_band_90-100%",
         "rawType": "int64",
         "type": "integer"
        },
        {
         "name": "age_band_35-55",
         "rawType": "int64",
         "type": "integer"
        },
        {
         "name": "age_band_55<=",
         "rawType": "int64",
         "type": "integer"
        },
        {
         "name": "disability_Y",
         "rawType": "int64",
         "type": "integer"
        }
       ],
       "conversionMethod": "pd.DataFrame",
       "ref": "12cfcac9-6de2-43ab-b485-d24c2249dd70",
       "rows": [
        [
         "0",
         "11391",
         "0",
         "240",
         "0",
         "0",
         "0",
         "0",
         "0",
         "0",
         "0",
         "1",
         "0",
         "0",
         "1",
         "0",
         "0",
         "0",
         "0",
         "0",
         "0",
         "0",
         "0",
         "0",
         "0",
         "0",
         "0",
         "1",
         "0",
         "0",
         "0",
         "0",
         "0",
         "0",
         "0",
         "0",
         "0",
         "0",
         "0",
         "1",
         "0",
         "1",
         "0"
        ],
        [
         "1",
         "28400",
         "0",
         "60",
         "0",
         "0",
         "0",
         "0",
         "0",
         "0",
         "0",
         "1",
         "0",
         "0",
         "0",
         "0",
         "0",
         "0",
         "0",
         "0",
         "1",
         "0",
         "0",
         "0",
         "0",
         "0",
         "0",
         "1",
         "0",
         "0",
         "0",
         "0",
         "1",
         "0",
         "0",
         "0",
         "0",
         "0",
         "0",
         "0",
         "1",
         "0",
         "0"
        ],
        [
         "2",
         "30268",
         "0",
         "60",
         "1",
         "0",
         "0",
         "0",
         "0",
         "0",
         "0",
         "1",
         "0",
         "0",
         "0",
         "0",
         "0",
         "0",
         "0",
         "1",
         "0",
         "0",
         "0",
         "0",
         "0",
         "0",
         "0",
         "0",
         "0",
         "0",
         "0",
         "0",
         "0",
         "1",
         "0",
         "0",
         "0",
         "0",
         "0",
         "0",
         "1",
         "0",
         "1"
        ],
        [
         "3",
         "31604",
         "0",
         "60",
         "0",
         "0",
         "0",
         "0",
         "0",
         "0",
         "0",
         "1",
         "0",
         "0",
         "0",
         "0",
         "0",
         "0",
         "0",
         "0",
         "0",
         "1",
         "0",
         "0",
         "0",
         "0",
         "0",
         "0",
         "0",
         "0",
         "0",
         "0",
         "0",
         "0",
         "0",
         "1",
         "0",
         "0",
         "0",
         "0",
         "1",
         "0",
         "0"
        ],
        [
         "4",
         "32885",
         "0",
         "60",
         "0",
         "0",
         "0",
         "0",
         "0",
         "0",
         "0",
         "1",
         "0",
         "0",
         "0",
         "0",
         "0",
         "0",
         "0",
         "0",
         "0",
         "0",
         "0",
         "0",
         "0",
         "1",
         "0",
         "0",
         "1",
         "0",
         "0",
         "0",
         "0",
         "0",
         "0",
         "1",
         "0",
         "0",
         "0",
         "0",
         "0",
         "0",
         "0"
        ]
       ],
       "shape": {
        "columns": 42,
        "rows": 5
       }
      },
      "text/html": [
       "<div>\n",
       "<style scoped>\n",
       "    .dataframe tbody tr th:only-of-type {\n",
       "        vertical-align: middle;\n",
       "    }\n",
       "\n",
       "    .dataframe tbody tr th {\n",
       "        vertical-align: top;\n",
       "    }\n",
       "\n",
       "    .dataframe thead th {\n",
       "        text-align: right;\n",
       "    }\n",
       "</style>\n",
       "<table border=\"1\" class=\"dataframe\">\n",
       "  <thead>\n",
       "    <tr style=\"text-align: right;\">\n",
       "      <th></th>\n",
       "      <th>id_student</th>\n",
       "      <th>num_of_prev_attempts</th>\n",
       "      <th>studied_credits</th>\n",
       "      <th>label</th>\n",
       "      <th>code_module_BBB</th>\n",
       "      <th>code_module_CCC</th>\n",
       "      <th>code_module_DDD</th>\n",
       "      <th>code_module_EEE</th>\n",
       "      <th>code_module_FFF</th>\n",
       "      <th>code_module_GGG</th>\n",
       "      <th>...</th>\n",
       "      <th>imd_band_30-40%</th>\n",
       "      <th>imd_band_40-50%</th>\n",
       "      <th>imd_band_50-60%</th>\n",
       "      <th>imd_band_60-70%</th>\n",
       "      <th>imd_band_70-80%</th>\n",
       "      <th>imd_band_80-90%</th>\n",
       "      <th>imd_band_90-100%</th>\n",
       "      <th>age_band_35-55</th>\n",
       "      <th>age_band_55&lt;=</th>\n",
       "      <th>disability_Y</th>\n",
       "    </tr>\n",
       "  </thead>\n",
       "  <tbody>\n",
       "    <tr>\n",
       "      <th>0</th>\n",
       "      <td>11391</td>\n",
       "      <td>0</td>\n",
       "      <td>240</td>\n",
       "      <td>0</td>\n",
       "      <td>0</td>\n",
       "      <td>0</td>\n",
       "      <td>0</td>\n",
       "      <td>0</td>\n",
       "      <td>0</td>\n",
       "      <td>0</td>\n",
       "      <td>...</td>\n",
       "      <td>0</td>\n",
       "      <td>0</td>\n",
       "      <td>0</td>\n",
       "      <td>0</td>\n",
       "      <td>0</td>\n",
       "      <td>0</td>\n",
       "      <td>1</td>\n",
       "      <td>0</td>\n",
       "      <td>1</td>\n",
       "      <td>0</td>\n",
       "    </tr>\n",
       "    <tr>\n",
       "      <th>1</th>\n",
       "      <td>28400</td>\n",
       "      <td>0</td>\n",
       "      <td>60</td>\n",
       "      <td>0</td>\n",
       "      <td>0</td>\n",
       "      <td>0</td>\n",
       "      <td>0</td>\n",
       "      <td>0</td>\n",
       "      <td>0</td>\n",
       "      <td>0</td>\n",
       "      <td>...</td>\n",
       "      <td>0</td>\n",
       "      <td>0</td>\n",
       "      <td>0</td>\n",
       "      <td>0</td>\n",
       "      <td>0</td>\n",
       "      <td>0</td>\n",
       "      <td>0</td>\n",
       "      <td>1</td>\n",
       "      <td>0</td>\n",
       "      <td>0</td>\n",
       "    </tr>\n",
       "    <tr>\n",
       "      <th>2</th>\n",
       "      <td>30268</td>\n",
       "      <td>0</td>\n",
       "      <td>60</td>\n",
       "      <td>1</td>\n",
       "      <td>0</td>\n",
       "      <td>0</td>\n",
       "      <td>0</td>\n",
       "      <td>0</td>\n",
       "      <td>0</td>\n",
       "      <td>0</td>\n",
       "      <td>...</td>\n",
       "      <td>1</td>\n",
       "      <td>0</td>\n",
       "      <td>0</td>\n",
       "      <td>0</td>\n",
       "      <td>0</td>\n",
       "      <td>0</td>\n",
       "      <td>0</td>\n",
       "      <td>1</td>\n",
       "      <td>0</td>\n",
       "      <td>1</td>\n",
       "    </tr>\n",
       "    <tr>\n",
       "      <th>3</th>\n",
       "      <td>31604</td>\n",
       "      <td>0</td>\n",
       "      <td>60</td>\n",
       "      <td>0</td>\n",
       "      <td>0</td>\n",
       "      <td>0</td>\n",
       "      <td>0</td>\n",
       "      <td>0</td>\n",
       "      <td>0</td>\n",
       "      <td>0</td>\n",
       "      <td>...</td>\n",
       "      <td>0</td>\n",
       "      <td>0</td>\n",
       "      <td>1</td>\n",
       "      <td>0</td>\n",
       "      <td>0</td>\n",
       "      <td>0</td>\n",
       "      <td>0</td>\n",
       "      <td>1</td>\n",
       "      <td>0</td>\n",
       "      <td>0</td>\n",
       "    </tr>\n",
       "    <tr>\n",
       "      <th>4</th>\n",
       "      <td>32885</td>\n",
       "      <td>0</td>\n",
       "      <td>60</td>\n",
       "      <td>0</td>\n",
       "      <td>0</td>\n",
       "      <td>0</td>\n",
       "      <td>0</td>\n",
       "      <td>0</td>\n",
       "      <td>0</td>\n",
       "      <td>0</td>\n",
       "      <td>...</td>\n",
       "      <td>0</td>\n",
       "      <td>0</td>\n",
       "      <td>1</td>\n",
       "      <td>0</td>\n",
       "      <td>0</td>\n",
       "      <td>0</td>\n",
       "      <td>0</td>\n",
       "      <td>0</td>\n",
       "      <td>0</td>\n",
       "      <td>0</td>\n",
       "    </tr>\n",
       "  </tbody>\n",
       "</table>\n",
       "<p>5 rows × 42 columns</p>\n",
       "</div>"
      ],
      "text/plain": [
       "   id_student  num_of_prev_attempts  studied_credits  label  code_module_BBB  \\\n",
       "0       11391                     0              240      0                0   \n",
       "1       28400                     0               60      0                0   \n",
       "2       30268                     0               60      1                0   \n",
       "3       31604                     0               60      0                0   \n",
       "4       32885                     0               60      0                0   \n",
       "\n",
       "   code_module_CCC  code_module_DDD  code_module_EEE  code_module_FFF  \\\n",
       "0                0                0                0                0   \n",
       "1                0                0                0                0   \n",
       "2                0                0                0                0   \n",
       "3                0                0                0                0   \n",
       "4                0                0                0                0   \n",
       "\n",
       "   code_module_GGG  ...  imd_band_30-40%  imd_band_40-50%  imd_band_50-60%  \\\n",
       "0                0  ...                0                0                0   \n",
       "1                0  ...                0                0                0   \n",
       "2                0  ...                1                0                0   \n",
       "3                0  ...                0                0                1   \n",
       "4                0  ...                0                0                1   \n",
       "\n",
       "   imd_band_60-70%  imd_band_70-80%  imd_band_80-90%  imd_band_90-100%  \\\n",
       "0                0                0                0                 1   \n",
       "1                0                0                0                 0   \n",
       "2                0                0                0                 0   \n",
       "3                0                0                0                 0   \n",
       "4                0                0                0                 0   \n",
       "\n",
       "   age_band_35-55  age_band_55<=  disability_Y  \n",
       "0               0              1             0  \n",
       "1               1              0             0  \n",
       "2               1              0             1  \n",
       "3               1              0             0  \n",
       "4               0              0             0  \n",
       "\n",
       "[5 rows x 42 columns]"
      ]
     },
     "execution_count": 100,
     "metadata": {},
     "output_type": "execute_result"
    }
   ],
   "source": [
    "print(\"Processed dataset shape:\", df_encoded.shape)\n",
    "df_encoded.head()"
   ]
  },
  {
   "cell_type": "code",
   "execution_count": 102,
   "id": "f6d148b0",
   "metadata": {},
   "outputs": [
    {
     "data": {
      "application/vnd.microsoft.datawrangler.viewer.v0+json": {
       "columns": [
        {
         "name": "index",
         "rawType": "int64",
         "type": "integer"
        },
        {
         "name": "code_module",
         "rawType": "object",
         "type": "string"
        },
        {
         "name": "code_presentation",
         "rawType": "object",
         "type": "string"
        },
        {
         "name": "id_student",
         "rawType": "int64",
         "type": "integer"
        },
        {
         "name": "id_site",
         "rawType": "int64",
         "type": "integer"
        },
        {
         "name": "date",
         "rawType": "int64",
         "type": "integer"
        },
        {
         "name": "sum_click",
         "rawType": "int64",
         "type": "integer"
        }
       ],
       "conversionMethod": "pd.DataFrame",
       "ref": "67c60263-5d2b-4cb5-8634-2528679fb131",
       "rows": [
        [
         "0",
         "AAA",
         "2013J",
         "28400",
         "546652",
         "-10",
         "4"
        ],
        [
         "1",
         "AAA",
         "2013J",
         "28400",
         "546652",
         "-10",
         "1"
        ],
        [
         "2",
         "AAA",
         "2013J",
         "28400",
         "546652",
         "-10",
         "1"
        ],
        [
         "3",
         "AAA",
         "2013J",
         "28400",
         "546614",
         "-10",
         "11"
        ],
        [
         "4",
         "AAA",
         "2013J",
         "28400",
         "546714",
         "-10",
         "1"
        ]
       ],
       "shape": {
        "columns": 6,
        "rows": 5
       }
      },
      "text/html": [
       "<div>\n",
       "<style scoped>\n",
       "    .dataframe tbody tr th:only-of-type {\n",
       "        vertical-align: middle;\n",
       "    }\n",
       "\n",
       "    .dataframe tbody tr th {\n",
       "        vertical-align: top;\n",
       "    }\n",
       "\n",
       "    .dataframe thead th {\n",
       "        text-align: right;\n",
       "    }\n",
       "</style>\n",
       "<table border=\"1\" class=\"dataframe\">\n",
       "  <thead>\n",
       "    <tr style=\"text-align: right;\">\n",
       "      <th></th>\n",
       "      <th>code_module</th>\n",
       "      <th>code_presentation</th>\n",
       "      <th>id_student</th>\n",
       "      <th>id_site</th>\n",
       "      <th>date</th>\n",
       "      <th>sum_click</th>\n",
       "    </tr>\n",
       "  </thead>\n",
       "  <tbody>\n",
       "    <tr>\n",
       "      <th>0</th>\n",
       "      <td>AAA</td>\n",
       "      <td>2013J</td>\n",
       "      <td>28400</td>\n",
       "      <td>546652</td>\n",
       "      <td>-10</td>\n",
       "      <td>4</td>\n",
       "    </tr>\n",
       "    <tr>\n",
       "      <th>1</th>\n",
       "      <td>AAA</td>\n",
       "      <td>2013J</td>\n",
       "      <td>28400</td>\n",
       "      <td>546652</td>\n",
       "      <td>-10</td>\n",
       "      <td>1</td>\n",
       "    </tr>\n",
       "    <tr>\n",
       "      <th>2</th>\n",
       "      <td>AAA</td>\n",
       "      <td>2013J</td>\n",
       "      <td>28400</td>\n",
       "      <td>546652</td>\n",
       "      <td>-10</td>\n",
       "      <td>1</td>\n",
       "    </tr>\n",
       "    <tr>\n",
       "      <th>3</th>\n",
       "      <td>AAA</td>\n",
       "      <td>2013J</td>\n",
       "      <td>28400</td>\n",
       "      <td>546614</td>\n",
       "      <td>-10</td>\n",
       "      <td>11</td>\n",
       "    </tr>\n",
       "    <tr>\n",
       "      <th>4</th>\n",
       "      <td>AAA</td>\n",
       "      <td>2013J</td>\n",
       "      <td>28400</td>\n",
       "      <td>546714</td>\n",
       "      <td>-10</td>\n",
       "      <td>1</td>\n",
       "    </tr>\n",
       "  </tbody>\n",
       "</table>\n",
       "</div>"
      ],
      "text/plain": [
       "  code_module code_presentation  id_student  id_site  date  sum_click\n",
       "0         AAA             2013J       28400   546652   -10          4\n",
       "1         AAA             2013J       28400   546652   -10          1\n",
       "2         AAA             2013J       28400   546652   -10          1\n",
       "3         AAA             2013J       28400   546614   -10         11\n",
       "4         AAA             2013J       28400   546714   -10          1"
      ]
     },
     "execution_count": 102,
     "metadata": {},
     "output_type": "execute_result"
    }
   ],
   "source": [
    "vle = pd.read_csv(\"../data/studentVle.csv\")\n",
    "vle.head()"
   ]
  },
  {
   "cell_type": "code",
   "execution_count": 103,
   "id": "6808eac2",
   "metadata": {},
   "outputs": [],
   "source": [
    "behavior_df = vle.groupby(\"id_student\").agg({\"sum_click\": [\"sum\", \"mean\", \"max\", \"count\"], \"date\": \"nunique\"})"
   ]
  },
  {
   "cell_type": "code",
   "execution_count": 104,
   "id": "19157e92",
   "metadata": {},
   "outputs": [],
   "source": [
    "behavior_df.columns = [\"total_clicks\", \"avg_clicks\", \"max_clicks\", \"click_events\", \"active_days\"]\n",
    "behavior_df.reset_index(inplace=True)"
   ]
  },
  {
   "cell_type": "code",
   "execution_count": 105,
   "id": "fd1594a3",
   "metadata": {},
   "outputs": [],
   "source": [
    "df_final = df_encoded.merge(behavior_df, on=\"id_student\", how=\"left\")\n",
    "df_final.fillna(0, inplace = True)"
   ]
  },
  {
   "cell_type": "markdown",
   "id": "fec9840c",
   "metadata": {},
   "source": [
    "In the above steps we merged the student behaviour data (Click Patterns)\n",
    "We use `studentVle.csv` to extract behavioral features like total clicks, activity days, and average engagement."
   ]
  },
  {
   "cell_type": "code",
   "execution_count": 106,
   "id": "1fba8406",
   "metadata": {},
   "outputs": [],
   "source": [
    "df_final.to_pickle('../data/processed_student_data.pkl')  # Save the data to disk, so that it can be accessed by other notebooks"
   ]
  }
 ],
 "metadata": {
  "kernelspec": {
   "display_name": "venv",
   "language": "python",
   "name": "python3"
  },
  "language_info": {
   "codemirror_mode": {
    "name": "ipython",
    "version": 3
   },
   "file_extension": ".py",
   "mimetype": "text/x-python",
   "name": "python",
   "nbconvert_exporter": "python",
   "pygments_lexer": "ipython3",
   "version": "3.12.3"
  }
 },
 "nbformat": 4,
 "nbformat_minor": 5
}
